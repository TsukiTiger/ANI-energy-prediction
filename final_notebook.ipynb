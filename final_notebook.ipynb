{
 "cells": [
  {
   "cell_type": "markdown",
   "id": "b54ae043",
   "metadata": {},
   "source": [
    "# Predicting Molecular Energies with Artificial Neural Networks: \n",
    "# An Application to the ANI-1 Dataset \n",
    "\n",
    "\n"
   ]
  },
  {
   "cell_type": "markdown",
   "id": "99dcf987",
   "metadata": {},
   "source": [
    "----"
   ]
  },
  {
   "cell_type": "markdown",
   "id": "28a005e1",
   "metadata": {},
   "source": [
    "### Table of Contents\n",
    "\n",
    "1. [Introduction](#Introduction)\n",
    "2. [Data Processing](#Data-Processing)\n",
    "3. [Model Definition](#Model-Definition)\n",
    "4. [Training](#Training)\n",
    "5. [Output Analysis/Visualization](#Output-Analysis/Visualization)\n",
    "6. [Conclusion](#Conclusion)\n"
   ]
  },
  {
   "cell_type": "markdown",
   "id": "1b4e6340",
   "metadata": {},
   "source": [
    "----"
   ]
  },
  {
   "cell_type": "markdown",
   "id": "575cdd2e",
   "metadata": {},
   "source": [
    "## Introduction"
   ]
  },
  {
   "cell_type": "markdown",
   "id": "23edb732",
   "metadata": {},
   "source": [
    "The purpose of this project is to develop a machine learning model for predicting the energy of molecules using the ANI (Atomic Neural Network) framework. In this report, we will present the details of the project, including the data processing steps, model definition, training process, and analysis of the model's performance.\n",
    "\n",
    "### Project Goals\n",
    "\n",
    "The main objectives of this project are:\n",
    "\n",
    "1. Understand the ANI framework and its application in molecular energy prediction.\n",
    "2. Implement and train a machine learning model based on the ANI architecture.\n",
    "3. Evaluate the model's performance and analyze its predictions.\n",
    "4. Provide insights into the potential applications and limitations of the model.\n",
    "\n",
    "Throughout the report, we will provide clear explanations, code snippets, and visualizations to facilitate understanding and reproducibility. Let's dive into the details and explore the exciting world of molecular energy prediction with ANI!\n"
   ]
  },
  {
   "cell_type": "markdown",
   "id": "eef50414",
   "metadata": {},
   "source": [
    "----"
   ]
  },
  {
   "cell_type": "markdown",
   "id": "4c10398b",
   "metadata": {},
   "source": [
    "# Data Processing"
   ]
  },
  {
   "cell_type": "markdown",
   "id": "edd23726",
   "metadata": {},
   "source": [
    "In this section, we will cover the steps involved in processing the input data for our model training. The data processing phase includes tasks such as loading the dataset, preprocessing, and splitting it into training and testing sets.\n"
   ]
  },
  {
   "cell_type": "code",
   "execution_count": 1,
   "id": "f9dfad66",
   "metadata": {},
   "outputs": [],
   "source": [
    "import numpy as np\n",
    "import torch\n",
    "from torch import nn\n",
    "import torchani\n",
    "import pyanitools as pya\n",
    "import matplotlib.pyplot as plt\n",
    "from sklearn.model_selection import train_test_split, KFold\n",
    "import math\n",
    "import tqdm\n",
    "import pickle\n",
    "import os\n",
    "\n",
    "# helper function to convert energy unit from Hartree to kcal/mol\n",
    "from torchani.units import hartree2kcalmol\n",
    "\n",
    "\n",
    "# device to run the training\n",
    "device = torch.device('cuda' if torch.cuda.is_available() else 'cpu')"
   ]
  },
  {
   "cell_type": "markdown",
   "id": "140b90c0",
   "metadata": {},
   "source": [
    "### ANI Dataset\n",
    "\n",
    "The ANI-1 dataset is a widely-used benchmark dataset in computational chemistry that contains 57,000 organic molecules with up to 8 heavy atoms (carbon, nitrogen, oxygen, sulfur). The dataset provides the Cartesian coordinates of the atoms in each molecule, as well as their total energy calculated from quantum mechanical simulations using density functional theory (DFT). The ANI-1 dataset has been used extensively for developing and testing machine learning models for predicting molecular energies, as it provides a diverse set of molecules with varying chemical properties and complexity. Due to its relatively small size and simplicity, the ANI-1 dataset is often used as a starting point for developing and testing new machine learning models in computational chemistry."
   ]
  },
  {
   "cell_type": "markdown",
   "id": "93cd544d",
   "metadata": {},
   "source": [
    "### Loading the Dataset\n",
    "\n",
    "To load the ANI-1 dataset, we will use the `pyanitools` library. The following code imports the dataset:"
   ]
  },
  {
   "cell_type": "code",
   "execution_count": 2,
   "id": "8e3ce8ce",
   "metadata": {},
   "outputs": [],
   "source": [
    "# Load ANI-1 dataset with 1 heavy atom\n",
    "ani_data = pya.anidataloader(\"ANI-1_release/ani_gdb_s05.h5\")"
   ]
  },
  {
   "cell_type": "markdown",
   "id": "8b31b4b9",
   "metadata": {},
   "source": [
    "### Exploring the ANI Dataset\n",
    "\n",
    "In this section, we will explore the ANI dataset and examine the contents of each data point. The ANI-1 dataset is a collection of organic molecules with up to 8 heavy atoms, and it provides various information such as the molecular coordinates, energies, species, and SMILES representation.\n",
    "\n",
    "#### Dataset Contents\n",
    "\n",
    "We will loop over each data point in the dataset and extract the following information for analysis:\n",
    "\n",
    "- **Path:** The path or identifier of the data point in the dataset.\n",
    "- **SMILES:** The simplified molecular-input line-entry system representation of the molecule.\n",
    "- **Symbols:** The atomic symbols present in the molecule.\n",
    "- **Coordinates:** The Cartesian coordinates of the atoms in the molecule.\n",
    "- **Energies:** The total energies of the molecule.\n",
    "\n",
    "Let's take a look at a few examples from the dataset:"
   ]
  },
  {
   "cell_type": "code",
   "execution_count": 3,
   "id": "a69d8bf3",
   "metadata": {},
   "outputs": [
    {
     "name": "stdout",
     "output_type": "stream",
     "text": [
      "Molecule 1:\n",
      "  Path:          /gdb11_s05/gdb11_s05-0\n",
      "  SMILES:        [H]N([H])C(C([H])([H])[H])(C([H])([H])[H])C([H])([H])[H]\n",
      "  Symbols:       ['C', 'C', 'C', 'C', 'N', 'H', 'H', 'H', 'H', 'H', 'H', 'H', 'H', 'H', 'H', 'H']\n",
      "  Coordinates:   (10080, 16, 3)\n",
      "  Energies:      (10080,) \n",
      "\n",
      "Molecule 2:\n",
      "  Path:          /gdb11_s05/gdb11_s05-1\n",
      "  SMILES:        [H]OC(C([H])([H])[H])(C([H])([H])[H])C([H])([H])[H]\n",
      "  Symbols:       ['C', 'C', 'C', 'C', 'O', 'H', 'H', 'H', 'H', 'H', 'H', 'H', 'H', 'H', 'H']\n",
      "  Coordinates:   (9360, 15, 3)\n",
      "  Energies:      (9360,) \n",
      "\n",
      "Molecule 3:\n",
      "  Path:          /gdb11_s05/gdb11_s05-10\n",
      "  SMILES:        [H]OC([H])([H])C([H])(O[H])C([H])([H])[H]\n",
      "  Symbols:       ['C', 'C', 'O', 'C', 'O', 'H', 'H', 'H', 'H', 'H', 'H', 'H', 'H']\n",
      "  Coordinates:   (7920, 13, 3)\n",
      "  Energies:      (7920,) \n",
      "\n"
     ]
    }
   ],
   "source": [
    "# Loop over the first three molecules in the dataset\n",
    "for i, mol in enumerate(ani_data):\n",
    "    if i >= 3:\n",
    "        break\n",
    "\n",
    "    # Extract information from the dataset\n",
    "    path = mol['path']\n",
    "    coordinates = mol['coordinates']\n",
    "    energies = mol['energies']\n",
    "    species = mol['species']\n",
    "    smiles = mol['smiles']\n",
    "\n",
    "    # Print the information for this molecule\n",
    "    print(f\"Molecule {i + 1}:\")\n",
    "    print(\"  Path:         \", path)\n",
    "    print(\"  SMILES:       \", \"\".join(smiles))\n",
    "    print(\"  Symbols:      \", species)\n",
    "    print(\"  Coordinates:  \", coordinates.shape)\n",
    "    print(\"  Energies:     \", energies.shape, \"\\n\")\n",
    "\n",
    "# Close the H5 data file\n",
    "ani_data.cleanup()"
   ]
  },
  {
   "cell_type": "markdown",
   "id": "49407f42",
   "metadata": {},
   "source": [
    "### Atomic Environment Vectors (AEVs)\n",
    "\n",
    "Atomic Environment Vectors (AEVs) are feature vectors that encode the local chemical environment around an atom in a molecule. These vectors play a crucial role in predicting molecular properties as they allow us to transform the initial atomic configurations using symmetry functions before inputting them into a neural network. By computing AEVs, we ensure that the neural network remains invariant to translations, rotations, and permutations of the atoms in a molecule.\n",
    "\n",
    "To calculate AEVs for molecular structures, the torchani library provides a module called AEV Computer. This class is initialized with various parameters and hyperparameters, which determine how the AEVs are computed. The parameters include the cutoff radius for radial symmetry functions (Rcr) and the cutoff radius for angular symmetry functions (Rca). The hyperparameters include EtaR, EtaA, Zeta, ShfR, ShfA, and ShfZ, which are used in the computation of the AEVs.\n",
    "\n",
    "Using AEVs offers several benefits, including improved accuracy and efficiency of the neural network for predicting molecular properties. By capturing the local chemical environment around each atom, the neural network can effectively learn the relationships between the atomic configurations and the corresponding properties.\n",
    "\n",
    "In our implementation, we define the AEV Computer with the specified hyperparameters:"
   ]
  },
  {
   "cell_type": "code",
   "execution_count": 4,
   "id": "6b96e018",
   "metadata": {},
   "outputs": [],
   "source": [
    "# AEV Computer hyperparameters\n",
    "Rcr = 5.2\n",
    "EtaR = torch.tensor([16], dtype=torch.float)\n",
    "ShfR = torch.tensor([0.900000,1.168750,1.437500,1.706250,1.975000,2.243750,2.51250,2.781250,3.050000,3.318750,3.587500,3.856250,4.125000,4.39375,4.662500,4.931250])\n",
    "Rca = 3.5\n",
    "EtaA = torch.tensor([8], dtype=torch.float)\n",
    "ShfA = torch.tensor([0.900000,1.550000,2.200000,2.850000], dtype=torch.float)\n",
    "ShfZ = torch.tensor([0.19634954,0.58904862,0.9817477,1.3744468,1.7671459,2.1598449,2.552544,2.945243]) \n",
    "Zeta = torch.tensor([32], dtype=torch.float)\n",
    "\n",
    "species_order = ['H', 'C', 'N', 'O']\n",
    "num_species = len(species_order) # number of different atom symbols\n",
    "\n",
    "aev_computer = torchani.AEVComputer(Rcr, Rca, EtaR, ShfR, EtaA, Zeta, ShfA, ShfZ, num_species)\n",
    "energy_shifter = torchani.utils.EnergyShifter(None)"
   ]
  },
  {
   "cell_type": "markdown",
   "id": "907ab980",
   "metadata": {},
   "source": [
    "In the above code, we initialize the AEV Computer with the specified hyperparameters, including the cutoff radii, Eta values, shift values, and Zeta values. Additionally, we provide the order of the atom symbols (species_order) and the total number of different atom symbols (num_species).\n",
    "\n",
    "By using the AEV Computer, we can calculate AEVs for the atoms in our molecular structures, which will be used as input features for our neural network model in the subsequent steps of our workflow."
   ]
  },
  {
   "cell_type": "markdown",
   "id": "cd22cf64",
   "metadata": {},
   "source": [
    "### Preprocessing and Splitting a Dataset for Training and Validation\n",
    "\n",
    "This is the preprocessing and splitting of the ANI-1 (subset of 5 heavy atoms) dataset into training and validation sets. The dataset is loaded from a specified file, and if a preprocessed dataset is not found, it undergoes preprocessing steps including subtracting self-energies and species mapping. The processed dataset is then shuffled and split into 80% for training and 20% for validation. The data is collated into batches, cached, and saved as a pickled file. The self atomic energies and the number of data points in the training and validation sets are printed for reference."
   ]
  },
  {
   "cell_type": "code",
   "execution_count": 5,
   "id": "d2011ef6",
   "metadata": {},
   "outputs": [
    {
     "name": "stdout",
     "output_type": "stream",
     "text": [
      "Unpickling preprocessed dataset found in dataset.pkl\n",
      "Self atomic energies: tensor([ -0.6083, -38.0702, -54.7143, -75.1882], device='cuda:0',\n",
      "       dtype=torch.float64)\n"
     ]
    }
   ],
   "source": [
    "# Determine the current working directory\n",
    "try:\n",
    "    path = os.path.dirname(os.path.realpath(__file__))\n",
    "except NameError:\n",
    "    path = os.getcwd()\n",
    "\n",
    "# Set the path to the dataset file\n",
    "dspath = os.path.join(path, 'ANI-1_release/ani_gdb_s05.h5')\n",
    "batch_size = 2560\n",
    "\n",
    "pickled_dataset_path = 'dataset.pkl'\n",
    "\n",
    "# Check if a preprocessed dataset is available\n",
    "if os.path.isfile(pickled_dataset_path):\n",
    "    print(f'Unpickling preprocessed dataset found in {pickled_dataset_path}')\n",
    "    with open(pickled_dataset_path, 'rb') as f:\n",
    "        dataset = pickle.load(f)\n",
    "    training = dataset['training'].collate(batch_size).cache()\n",
    "    validation = dataset['validation'].collate(batch_size).cache()\n",
    "    energy_shifter.self_energies = dataset['self_energies'].to(device)\n",
    "else:\n",
    "    print(f'Processing dataset in {dspath}')\n",
    "    dataset = torchani.data.load(dspath)\n",
    "    dataset = dataset.subtract_self_energies(energy_shifter)\n",
    "    dataset = dataset.species_to_indices()\n",
    "    dataset = dataset.shuffle()\n",
    "    training, validation = dataset.split(0.8, None)\n",
    "    with open(pickled_dataset_path, 'wb') as f:\n",
    "        pickle.dump({'training': training,\n",
    "                     'validation': validation,\n",
    "                     'self_energies': energy_shifter.self_energies.cpu()}, f)\n",
    "    training = training.collate(batch_size).cache()\n",
    "    validation = validation.collate(batch_size).cache()\n",
    "\n",
    "print('Self atomic energies:', energy_shifter.self_energies)"
   ]
  },
  {
   "cell_type": "markdown",
   "id": "7deec2ca",
   "metadata": {},
   "source": [
    "----"
   ]
  },
  {
   "cell_type": "markdown",
   "id": "d529428e",
   "metadata": {},
   "source": [
    "## Model Definition"
   ]
  },
  {
   "cell_type": "markdown",
   "id": "744b70a8",
   "metadata": {},
   "source": [
    "The ANIModel is a neural network model designed for the prediction of atomic energies in molecular systems. It utilizes the Atomic Environment Vector (AEV) representation as input, which encodes the chemical environment of each atom. The model consists of sub-networks for four types of atoms: Hydrogen (H), Carbon (C), Nitrogen (N), and Oxygen (O). Each sub-network follows a similar architecture, consisting of linear layers with rectified linear unit (ReLU) activation functions. The ANIModel aggregates the atomic energies predicted by the sub-networks to obtain the total energy of the molecule. This model allows for the efficient and accurate estimation of molecular energies based on the atomic composition and environment. To instantiate the model, the AEV dimension and the architecture of each sub-network need to be specified."
   ]
  },
  {
   "cell_type": "code",
   "execution_count": 6,
   "id": "c7503404",
   "metadata": {},
   "outputs": [],
   "source": [
    "class ANI_Sub(nn.Module):\n",
    "    def __init__(self, aev_dim, sub_architecture):\n",
    "        super(ANI_Sub, self).__init__()\n",
    "        layers = []\n",
    "        layers.append(nn.Linear(aev_dim, sub_architecture[0]))\n",
    "        layers.append(nn.CELU(0.1))\n",
    "        for i in range(len(sub_architecture) - 1):\n",
    "            layers.append(nn.Linear(sub_architecture[i], sub_architecture[i+1]))\n",
    "            layers.append(nn.CELU(0.1))\n",
    "        layers.append(nn.Linear(sub_architecture[-1], 1))\n",
    "        self.network = nn.Sequential(*layers)\n",
    "\n",
    "    def forward(self, x):\n",
    "        return self.network(x)\n",
    "\n",
    "\n",
    "class ANIModel(nn.Module):\n",
    "    def __init__(self,aev_computer, aev_dim, architecture):\n",
    "        super(ANIModel, self).__init__()\n",
    "        self.aev_computer = aev_computer\n",
    "        self.sub_nets = nn.ModuleDict({\n",
    "            'H': ANI_Sub(aev_dim, architecture[0]),\n",
    "            'C': ANI_Sub(aev_dim, architecture[1]),\n",
    "            'N': ANI_Sub(aev_dim, architecture[2]),\n",
    "            'O': ANI_Sub(aev_dim, architecture[3])\n",
    "        })\n",
    "\n",
    "    def forward(self, species_coordinates):\n",
    "        species, coordinates = species_coordinates\n",
    "        species, aevs = self.aev_computer((species, coordinates))\n",
    "        atomic_energies = self.mask_aevs((species, aevs))\n",
    "        return torch.sum(atomic_energies, dim=1)\n",
    "\n",
    "    def mask_aevs(self, species_aevs):\n",
    "        species, aevs = species_aevs\n",
    "        species_1d = species.flatten()\n",
    "        aevs = aevs.flatten(0, 1)\n",
    "        aevs_shape = aevs.shape\n",
    "        energies = torch.empty(aevs_shape[0], dtype=aevs.dtype, device=aevs.device).fill_(-1)\n",
    "        atom_symbol_map = {'H': 0, 'C': 1, 'N': 2, 'O': 3}\n",
    "\n",
    "        for atom_symbol, net in self.sub_nets.items():\n",
    "            atom_type = atom_symbol_map[atom_symbol]\n",
    "            mask = (species_1d == atom_type)\n",
    "            atom_indices = torch.where(mask)[0]\n",
    "\n",
    "            if atom_indices.shape[0] > 0:\n",
    "                masked_aevs = aevs[atom_indices].to(aevs.device)\n",
    "                energies[mask] = net(masked_aevs).flatten()\n",
    "\n",
    "        energies = energies.reshape(species.shape)\n",
    "        return energies\n",
    "\n",
    "\n",
    "aev_dim = aev_computer.aev_length  \n",
    "architecture = [[160, 128, 96], [144, 112, 96], [128, 112, 96], [128, 112, 96]]\n",
    "model = ANIModel(aev_computer, aev_dim, architecture).to(device)"
   ]
  },
  {
   "cell_type": "code",
   "execution_count": 7,
   "id": "a2bdcdc3",
   "metadata": {},
   "outputs": [
    {
     "data": {
      "text/plain": [
       "ANIModel(\n",
       "  (aev_computer): AEVComputer()\n",
       "  (sub_nets): ModuleDict(\n",
       "    (H): ANI_Sub(\n",
       "      (network): Sequential(\n",
       "        (0): Linear(in_features=384, out_features=160, bias=True)\n",
       "        (1): CELU(alpha=0.1)\n",
       "        (2): Linear(in_features=160, out_features=128, bias=True)\n",
       "        (3): CELU(alpha=0.1)\n",
       "        (4): Linear(in_features=128, out_features=96, bias=True)\n",
       "        (5): CELU(alpha=0.1)\n",
       "        (6): Linear(in_features=96, out_features=1, bias=True)\n",
       "      )\n",
       "    )\n",
       "    (C): ANI_Sub(\n",
       "      (network): Sequential(\n",
       "        (0): Linear(in_features=384, out_features=144, bias=True)\n",
       "        (1): CELU(alpha=0.1)\n",
       "        (2): Linear(in_features=144, out_features=112, bias=True)\n",
       "        (3): CELU(alpha=0.1)\n",
       "        (4): Linear(in_features=112, out_features=96, bias=True)\n",
       "        (5): CELU(alpha=0.1)\n",
       "        (6): Linear(in_features=96, out_features=1, bias=True)\n",
       "      )\n",
       "    )\n",
       "    (N): ANI_Sub(\n",
       "      (network): Sequential(\n",
       "        (0): Linear(in_features=384, out_features=128, bias=True)\n",
       "        (1): CELU(alpha=0.1)\n",
       "        (2): Linear(in_features=128, out_features=112, bias=True)\n",
       "        (3): CELU(alpha=0.1)\n",
       "        (4): Linear(in_features=112, out_features=96, bias=True)\n",
       "        (5): CELU(alpha=0.1)\n",
       "        (6): Linear(in_features=96, out_features=1, bias=True)\n",
       "      )\n",
       "    )\n",
       "    (O): ANI_Sub(\n",
       "      (network): Sequential(\n",
       "        (0): Linear(in_features=384, out_features=128, bias=True)\n",
       "        (1): CELU(alpha=0.1)\n",
       "        (2): Linear(in_features=128, out_features=112, bias=True)\n",
       "        (3): CELU(alpha=0.1)\n",
       "        (4): Linear(in_features=112, out_features=96, bias=True)\n",
       "        (5): CELU(alpha=0.1)\n",
       "        (6): Linear(in_features=96, out_features=1, bias=True)\n",
       "      )\n",
       "    )\n",
       "  )\n",
       ")"
      ]
     },
     "execution_count": 7,
     "metadata": {},
     "output_type": "execute_result"
    }
   ],
   "source": [
    "model"
   ]
  },
  {
   "cell_type": "markdown",
   "id": "69288742",
   "metadata": {},
   "source": [
    "The optimizer is set up using the AdamW algorithm, which is a variant of the Adam optimizer that incorporates weight decay regularization. We initialize the optimizer with the parameters of the `model` using the learning rate of 1e-3. The AdamW optimizer is well-suited for training neural networks and is commonly used in deep learning tasks.\n",
    "\n",
    "The learning rate scheduler is configured using the ReduceLROnPlateau algorithm, which reduces the learning rate when the validation loss plateaus. It monitors the validation loss and reduces the learning rate by a factor of 0.5 when no improvement in the loss is observed for a certain number of epochs (patience). This helps in fine-tuning the model by gradually decreasing the learning rate as the training progresses.\n",
    "\n",
    "These optimization techniques ensure that the model parameters are updated effectively during the training process, leading to better convergence and improved performance."
   ]
  },
  {
   "cell_type": "code",
   "execution_count": 8,
   "id": "6556dec7",
   "metadata": {},
   "outputs": [],
   "source": [
    "# Initialize the weights and biases\n",
    "def init_params(m):\n",
    "    if isinstance(m, torch.nn.Linear):\n",
    "        torch.nn.init.kaiming_normal_(m.weight, a=1.0)\n",
    "        torch.nn.init.zeros_(m.bias)\n",
    "\n",
    "model.apply(init_params)\n",
    "\n",
    "# Set up the optimizer and learning rate scheduler\n",
    "Adam_optimizer = torch.optim.AdamW([\n",
    "    {'params': model.sub_nets['H'].parameters()},\n",
    "    {'params': model.sub_nets['C'].parameters(), 'weight_decay': 0.0001},\n",
    "    {'params': model.sub_nets['N'].parameters(), 'weight_decay': 0.0001},\n",
    "    {'params': model.sub_nets['O'].parameters(), 'weight_decay': 0.0001}\n",
    "], lr=1e-3)\n",
    "SGD = torch.optim.SGD([\n",
    "    {'params': model.sub_nets['H'].parameters()},\n",
    "    {'params': model.sub_nets['C'].parameters(), 'weight_decay': 0.0001},\n",
    "    {'params': model.sub_nets['N'].parameters(), 'weight_decay': 0.0001},\n",
    "    {'params': model.sub_nets['O'].parameters(), 'weight_decay': 0.0001}\n",
    "], lr=1e-3)\n",
    "\n",
    "Adam_scheduler = torch.optim.lr_scheduler.ReduceLROnPlateau(Adam_optimizer, factor=0.5, patience=100, threshold=0)\n",
    "SGD_scheduler = torch.optim.lr_scheduler.ReduceLROnPlateau(SGD, factor=0.5, patience=100, threshold=0)"
   ]
  },
  {
   "cell_type": "markdown",
   "id": "e4395864",
   "metadata": {},
   "source": [
    "----"
   ]
  },
  {
   "cell_type": "markdown",
   "id": "2291a08e",
   "metadata": {},
   "source": [
    "## Training"
   ]
  },
  {
   "cell_type": "markdown",
   "id": "c0068359",
   "metadata": {},
   "source": [
    "#### Validate the model\n",
    "\n",
    "This function validates the model on the validation set. It first sets the model to evaluation mode, then calculates the mean squared error (MSE) between the predicted and true energies. Finally, it calculates the root mean squared error (RMSE) and converts it to kcal/mol."
   ]
  },
  {
   "cell_type": "code",
   "execution_count": 9,
   "id": "d142e551",
   "metadata": {},
   "outputs": [],
   "source": [
    "mapping = {'H': 0, 'C': 1, 'N': 2, 'O': 3}\n",
    "\n",
    "def validate():\n",
    "    # Set the model to evaluation mode\n",
    "    model.eval()\n",
    "    \n",
    "    mse_sum = nn.MSELoss(reduction='sum')\n",
    "    total_mse = 0.0\n",
    "    count = 0\n",
    "    \n",
    "    with torch.no_grad():\n",
    "        for properties in validation:\n",
    "            species = properties['species'].to(device)\n",
    "            coordinates = properties['coordinates'].to(device).float()\n",
    "            true_energies = properties['energies'].to(device).float()\n",
    "            \n",
    "            # Pass the species and aevs through the model to get predicted energies\n",
    "            predicted_energies = model((species, coordinates))\n",
    "            \n",
    "            # Calculate the mean squared error\n",
    "            total_mse += mse_sum(predicted_energies, true_energies).item()\n",
    "            count += predicted_energies.shape[0]\n",
    "    \n",
    "    # Set the model back to training mode\n",
    "    model.train()\n",
    "    \n",
    "    # Calculate the root mean squared error (RMSE) and convert it to kcal/mol\n",
    "    rmse = math.sqrt(total_mse / count)\n",
    "    return hartree2kcalmol(rmse)"
   ]
  },
  {
   "cell_type": "markdown",
   "id": "e3ac6ac6",
   "metadata": {},
   "source": [
    "#### Initialize TensorBoard SummaryWriter\n",
    "\n",
    "This code initializes a TensorBoard SummaryWriter. TensorBoard is a visualization tool that can be used to track the training and performance of machine learning models. The SummaryWriter class provides methods for logging scalars, images, audio, histograms, and graphs."
   ]
  },
  {
   "cell_type": "code",
   "execution_count": 10,
   "id": "dbdd110f",
   "metadata": {},
   "outputs": [],
   "source": [
    "if torch.__version__ >= \"1.7.0\":\n",
    "    from torch.utils.tensorboard import SummaryWriter\n",
    "else:\n",
    "    from torch.utils.tensorboardX import SummaryWriter\n",
    "\n",
    "# Initialize TensorBoard SummaryWriter\n",
    "tensorboard = SummaryWriter()"
   ]
  },
  {
   "cell_type": "markdown",
   "id": "8e02d794",
   "metadata": {},
   "source": [
    "#### Train the model\n",
    "\n",
    "This code trains the model on the training set and evaluates it on the validation set. It uses the Adam optimizer and a learning rate scheduler to gradually reduce the learning rate as the model converges. The code also saves the best model checkpoint and the latest model checkpoint."
   ]
  },
  {
   "cell_type": "code",
   "execution_count": 11,
   "id": "f8b5cdae",
   "metadata": {
    "scrolled": true
   },
   "outputs": [
    {
     "name": "stdout",
     "output_type": "stream",
     "text": [
      "Training starting from epoch 1\n",
      "RMSE: 3467.797892347623 at epoch 1\n"
     ]
    },
    {
     "name": "stderr",
     "output_type": "stream",
     "text": [
      "epoch 1: 100%|███████████████████████████████████████████████████████████████████████| 567/567 [00:09<00:00, 62.52it/s]\n"
     ]
    },
    {
     "name": "stdout",
     "output_type": "stream",
     "text": [
      "RMSE: 30.40974325280001 at epoch 2\n"
     ]
    },
    {
     "name": "stderr",
     "output_type": "stream",
     "text": [
      "epoch 2: 100%|███████████████████████████████████████████████████████████████████████| 567/567 [00:09<00:00, 62.89it/s]\n"
     ]
    },
    {
     "name": "stdout",
     "output_type": "stream",
     "text": [
      "RMSE: 19.99952488158319 at epoch 3\n"
     ]
    },
    {
     "name": "stderr",
     "output_type": "stream",
     "text": [
      "epoch 3: 100%|███████████████████████████████████████████████████████████████████████| 567/567 [00:08<00:00, 63.02it/s]\n"
     ]
    },
    {
     "name": "stdout",
     "output_type": "stream",
     "text": [
      "RMSE: 16.43935489161894 at epoch 4\n"
     ]
    },
    {
     "name": "stderr",
     "output_type": "stream",
     "text": [
      "epoch 4: 100%|███████████████████████████████████████████████████████████████████████| 567/567 [00:09<00:00, 62.82it/s]\n"
     ]
    },
    {
     "name": "stdout",
     "output_type": "stream",
     "text": [
      "RMSE: 19.76861805614909 at epoch 5\n"
     ]
    },
    {
     "name": "stderr",
     "output_type": "stream",
     "text": [
      "epoch 5: 100%|███████████████████████████████████████████████████████████████████████| 567/567 [00:08<00:00, 63.01it/s]\n"
     ]
    },
    {
     "name": "stdout",
     "output_type": "stream",
     "text": [
      "RMSE: 13.48429771219355 at epoch 6\n"
     ]
    },
    {
     "name": "stderr",
     "output_type": "stream",
     "text": [
      "epoch 6: 100%|███████████████████████████████████████████████████████████████████████| 567/567 [00:09<00:00, 62.82it/s]\n"
     ]
    },
    {
     "name": "stdout",
     "output_type": "stream",
     "text": [
      "RMSE: 12.319600693920721 at epoch 7\n"
     ]
    },
    {
     "name": "stderr",
     "output_type": "stream",
     "text": [
      "epoch 7: 100%|███████████████████████████████████████████████████████████████████████| 567/567 [00:08<00:00, 63.08it/s]\n"
     ]
    },
    {
     "name": "stdout",
     "output_type": "stream",
     "text": [
      "RMSE: 13.764063866968632 at epoch 8\n"
     ]
    },
    {
     "name": "stderr",
     "output_type": "stream",
     "text": [
      "epoch 8: 100%|███████████████████████████████████████████████████████████████████████| 567/567 [00:08<00:00, 63.66it/s]\n"
     ]
    },
    {
     "name": "stdout",
     "output_type": "stream",
     "text": [
      "RMSE: 11.538132825085544 at epoch 9\n"
     ]
    },
    {
     "name": "stderr",
     "output_type": "stream",
     "text": [
      "epoch 9: 100%|███████████████████████████████████████████████████████████████████████| 567/567 [00:09<00:00, 62.91it/s]\n"
     ]
    },
    {
     "name": "stdout",
     "output_type": "stream",
     "text": [
      "RMSE: 46.53611120067337 at epoch 10\n"
     ]
    },
    {
     "name": "stderr",
     "output_type": "stream",
     "text": [
      "epoch 10: 100%|██████████████████████████████████████████████████████████████████████| 567/567 [00:08<00:00, 63.12it/s]\n"
     ]
    },
    {
     "name": "stdout",
     "output_type": "stream",
     "text": [
      "RMSE: 8.604867101915596 at epoch 11\n"
     ]
    },
    {
     "name": "stderr",
     "output_type": "stream",
     "text": [
      "epoch 11: 100%|██████████████████████████████████████████████████████████████████████| 567/567 [00:09<00:00, 62.22it/s]\n"
     ]
    },
    {
     "name": "stdout",
     "output_type": "stream",
     "text": [
      "RMSE: 8.447460140421628 at epoch 12\n"
     ]
    },
    {
     "name": "stderr",
     "output_type": "stream",
     "text": [
      "epoch 12: 100%|██████████████████████████████████████████████████████████████████████| 567/567 [00:09<00:00, 62.46it/s]\n"
     ]
    },
    {
     "name": "stdout",
     "output_type": "stream",
     "text": [
      "RMSE: 7.407315348709246 at epoch 13\n"
     ]
    },
    {
     "name": "stderr",
     "output_type": "stream",
     "text": [
      "epoch 13: 100%|██████████████████████████████████████████████████████████████████████| 567/567 [00:09<00:00, 62.37it/s]\n"
     ]
    },
    {
     "name": "stdout",
     "output_type": "stream",
     "text": [
      "RMSE: 7.8310455874282034 at epoch 14\n"
     ]
    },
    {
     "name": "stderr",
     "output_type": "stream",
     "text": [
      "epoch 14: 100%|██████████████████████████████████████████████████████████████████████| 567/567 [00:08<00:00, 63.41it/s]\n"
     ]
    },
    {
     "name": "stdout",
     "output_type": "stream",
     "text": [
      "RMSE: 6.8492694017348255 at epoch 15\n"
     ]
    },
    {
     "name": "stderr",
     "output_type": "stream",
     "text": [
      "epoch 15: 100%|██████████████████████████████████████████████████████████████████████| 567/567 [00:08<00:00, 63.41it/s]\n"
     ]
    },
    {
     "name": "stdout",
     "output_type": "stream",
     "text": [
      "RMSE: 8.40383803297341 at epoch 16\n"
     ]
    },
    {
     "name": "stderr",
     "output_type": "stream",
     "text": [
      "epoch 16: 100%|██████████████████████████████████████████████████████████████████████| 567/567 [00:08<00:00, 63.55it/s]\n"
     ]
    },
    {
     "name": "stdout",
     "output_type": "stream",
     "text": [
      "RMSE: 12.306948007865099 at epoch 17\n"
     ]
    },
    {
     "name": "stderr",
     "output_type": "stream",
     "text": [
      "epoch 17: 100%|██████████████████████████████████████████████████████████████████████| 567/567 [00:09<00:00, 62.94it/s]\n"
     ]
    },
    {
     "name": "stdout",
     "output_type": "stream",
     "text": [
      "RMSE: 16.05501775119959 at epoch 18\n"
     ]
    },
    {
     "name": "stderr",
     "output_type": "stream",
     "text": [
      "epoch 18: 100%|██████████████████████████████████████████████████████████████████████| 567/567 [00:08<00:00, 63.09it/s]\n"
     ]
    },
    {
     "name": "stdout",
     "output_type": "stream",
     "text": [
      "RMSE: 6.394444334147664 at epoch 19\n"
     ]
    },
    {
     "name": "stderr",
     "output_type": "stream",
     "text": [
      "epoch 19: 100%|██████████████████████████████████████████████████████████████████████| 567/567 [00:09<00:00, 62.50it/s]\n"
     ]
    }
   ],
   "source": [
    "mse = torch.nn.MSELoss(reduction='none')\n",
    "\n",
    "# Define the device (CPU or GPU)\n",
    "device = torch.device('cuda' if torch.cuda.is_available() else 'cpu')\n",
    "\n",
    "print(\"Training starting from epoch\", Adam_scheduler.last_epoch + 1)\n",
    "max_epochs = 20\n",
    "early_stopping_learning_rate = 1.0E-5\n",
    "best_model_checkpoint = 'best.pt'\n",
    "latest_checkpoint = 'latest.pt'\n",
    "\n",
    "training_rmse = []\n",
    "validation_rmse = []\n",
    "\n",
    "for epoch in range(Adam_scheduler.last_epoch + 1, max_epochs):\n",
    "    rmse = validate()\n",
    "    print('RMSE:', rmse, 'at epoch', epoch)\n",
    "\n",
    "    learning_rate = Adam_optimizer.param_groups[0]['lr']\n",
    "\n",
    "    if learning_rate < early_stopping_learning_rate:\n",
    "        break\n",
    "\n",
    "    # Checkpoint\n",
    "    if Adam_scheduler.is_better(rmse, Adam_scheduler.best):\n",
    "        torch.save(model.state_dict(), best_model_checkpoint)\n",
    "\n",
    "    Adam_scheduler.step(rmse)\n",
    "\n",
    "    tensorboard.add_scalar('validation_rmse', rmse, Adam_scheduler.last_epoch)\n",
    "    tensorboard.add_scalar('best_validation_rmse', Adam_scheduler.best, Adam_scheduler.last_epoch)\n",
    "    tensorboard.add_scalar('learning_rate', learning_rate, Adam_scheduler.last_epoch)\n",
    "\n",
    "    epoch_training_rmse = []\n",
    "\n",
    "    for i, properties in tqdm.tqdm(\n",
    "        enumerate(training),\n",
    "        total=len(training),\n",
    "        desc=\"epoch {}\".format(Adam_scheduler.last_epoch)\n",
    "    ):\n",
    "        species = properties['species'].to(device)\n",
    "        coordinates = properties['coordinates'].to(device).float()\n",
    "        true_energies = properties['energies'].to(device).float()\n",
    "        num_atoms = (species >= 0).sum(dim=1, dtype=true_energies.dtype)\n",
    "        predicted_energies = model((species, coordinates))\n",
    "\n",
    "        loss = (mse(predicted_energies, true_energies) / num_atoms.sqrt()).mean()\n",
    "\n",
    "        Adam_optimizer.zero_grad()\n",
    "        SGD.zero_grad()\n",
    "        loss.backward()\n",
    "        Adam_optimizer.step()\n",
    "        SGD.step()\n",
    "\n",
    "        training_rmse.append(torch.mean(torch.tensor(epoch_training_rmse)))\n",
    "\n",
    "        # Write current batch loss and accuracy to TensorBoard\n",
    "        tensorboard.add_scalar('batch_loss', loss, Adam_scheduler.last_epoch * len(training) + i)\n",
    "        epoch_training_rmse.append(loss.item())\n",
    "\n",
    "    avg_training_rmse = float(torch.mean(torch.mean(torch.tensor(epoch_training_rmse))))\n",
    "    training_rmse.append(avg_training_rmse)\n",
    "    validation_rmse.append(rmse)\n",
    "\n",
    "    torch.save({\n",
    "        'model': model.state_dict(),\n",
    "        'Adam_optimizer': Adam_optimizer.state_dict(),\n",
    "        'SGD_optimizer': SGD.state_dict(),\n",
    "        'Adam_scheduler': Adam_scheduler.state_dict(),\n",
    "        'SGD_scheduler': SGD_scheduler.state_dict(),\n",
    "    }, latest_checkpoint)"
   ]
  },
  {
   "cell_type": "markdown",
   "id": "6a7808f0",
   "metadata": {},
   "source": [
    "----"
   ]
  },
  {
   "cell_type": "markdown",
   "id": "d8addcc3",
   "metadata": {},
   "source": [
    "## Output Analysis/Visualization"
   ]
  },
  {
   "cell_type": "markdown",
   "id": "ffb1f728",
   "metadata": {},
   "source": [
    "This section provides visualizations of the results of the experiments. The visualizations include plots of the RMSE as a function of epoch for each architecture and optimizer, as well as a table of the validational RMSE values for each architecture during the training and optimizer.\n",
    "\n",
    "The plots show that the RMSE decreases as the number of epochs increases, indicating that the models are learning. The table shows that the best RMSE values are achieved by the models with the most complex architectures and the most sophisticated optimizers.\n",
    "\n",
    "These results suggest that it is not the more complex the model and the more sophisticated the optimizer, the better the model will perform. And, it is important to note that these results are based on a small number of experiments, and further experiments are needed to confirm these findings."
   ]
  },
  {
   "cell_type": "code",
   "execution_count": 12,
   "id": "69ae1dd3",
   "metadata": {},
   "outputs": [],
   "source": [
    "rmse_arch1_adam = [3367.707742010401, 33.764995818432695, 22.15533475407281, 69.59049359325205, 79.85340193454238, 70.58896099091724, 45.468856376382696, 11.676687560508519, 12.933883003932898]\n",
    "rmse_arch1_adam_sgd = [2508.107885095542, 31.365986801624203, 18.9040306656691, 20.038547357388815, 95.49579777260415, 19.64396282869715, 44.367399663859096, 16.349760303564437, 38.45869760731864, 10.411533752677721, 16.480257316340616, 9.910835987818803, 14.792758328341158, 16.60215308091394, 7.935379564667714, 6.4097967021536295, 14.909141649727726]\n",
    "rmse_arch1_adam_sgd_l2 = [3326.633987230538, 41.13292518792166, 19.240387067199393, 57.13393994917682, 13.534826109651114, 48.1994671172829, 11.147271547486593, 62.547821655289574, 12.666951325882975, 10.28555707919762, 10.570509565278687, 16.147534759509195, 11.573790682282093, 9.381164401542081, 8.112733128366129, 7.293921291805301, 22.15812735491851, 6.0256748002993765, 10.068998268588109]\n",
    "rmse_arch2 = [3396.356689154324, 36.868897177333494, 23.491971939871902, 19.218189568122533, 31.75522929267138, 32.01902245693732, 19.15441382607517, 12.960202527096737, 42.10002286195515, 18.44979213492561, 27.357788799093594, 13.711657775871986, 14.840022357993952, 12.742032760481349, 8.614752807466026, 31.50680834452437, 9.473708219431433, 9.654932329139175, 7.162122365890008]\n",
    "rmse_arch3 = [3326.8849070479173, 40.738501099709445, 25.087768351023865, 19.754304116614435, 17.76071648165708, 21.136089281862557, 35.77164435541841, 12.178929314419024, 11.109362970999321, 53.43705627724359, 15.777574003394843, 10.775766555884408, 8.762443171732203, 9.122492753847068, 9.039977188936394, 7.599744257702107, 19.913225743098668, 7.34272540528484, 6.692841430313007]"
   ]
  },
  {
   "cell_type": "code",
   "execution_count": 13,
   "id": "6a685f3d",
   "metadata": {},
   "outputs": [
    {
     "data": {
      "image/png": "[encoded data removed]",
      "text/plain": [
       "<Figure size 640x480 with 1 Axes>"
      ]
     },
     "metadata": {},
     "output_type": "display_data"
    }
   ],
   "source": [
    "import matplotlib.pyplot as plt\n",
    "\n",
    "# Define the x-axis values (number of epochs)\n",
    "epochs = range(1, len(rmse_arch1_adam_sgd_l2) + 1)\n",
    "\n",
    "# Plot the curves for each architecture/optimizer\n",
    "plt.plot(range(1, len(rmse_arch1_adam) + 1), rmse_arch1_adam, 'b-', label='Arch #1 with Adam')\n",
    "plt.plot(range(1, len(rmse_arch1_adam_sgd) + 1), rmse_arch1_adam_sgd, 'g-', label='Arch #1 with Adam and SGD')\n",
    "plt.plot(epochs, rmse_arch1_adam_sgd_l2, 'r-', label='Arch #1 with Adam and SGD and L2')\n",
    "\n",
    "plt.plot(epochs, rmse_arch2, 'b--', label='Arch #2 with Adam&SGD and L2')\n",
    "plt.plot(epochs, rmse_arch3, 'g--', label='Arch #3 with Adam&SGD and L2')\n",
    "\n",
    "# Add axis labels and a legend\n",
    "plt.xlabel('Epoch')\n",
    "plt.ylabel('RMSE')\n",
    "plt.ylim(0,100)\n",
    "plt.legend()\n",
    "\n",
    "# Set the x ticks to be integers\n",
    "plt.xticks(range(1, 21))\n",
    "\n",
    "# Show the plot\n",
    "plt.show()\n"
   ]
  },
  {
   "cell_type": "markdown",
   "id": "f36f5fd7",
   "metadata": {},
   "source": [
    "In conclusion, based on the plot, it can be observed that the original architecture with both the Adam and SGD optimizers, along with L2 regularization, achieved the lowest root mean squared error (RMSE) among the evaluated architectures. However, it is interesting to note that architectures with fewer hidden layers and neurons, such as architecture 2 and architecture 3 (with 64 neurons in the hidden layer), also exhibited good performance. This suggests that the combination of L2 regularization and a less complex model structure can effectively prevent overfitting and lead to improved predictions of molecular energies. Therefore, when developing deep learning models for energy prediction, it is crucial to strike a balance between model complexity and regularization techniques to achieve optimal performance."
   ]
  },
  {
   "cell_type": "markdown",
   "id": "6376e4af",
   "metadata": {},
   "source": [
    "____"
   ]
  },
  {
   "cell_type": "markdown",
   "id": "2e7e6b9d",
   "metadata": {},
   "source": [
    "## Conclusion"
   ]
  },
  {
   "cell_type": "markdown",
   "id": "6b898400",
   "metadata": {},
   "source": [
    "\n",
    "In conclusion, the process of developing and training a deep learning model for energy prediction using the TorchANI module and sample code provided significant insights and challenges. Loading the data correctly and preparing it for input into the model was a crucial step, and the sample code and TorchANI module proved to be valuable resources in overcoming this challenge.\n",
    "\n",
    "The incorporation of the self-energy subtraction technique was found to be essential for achieving improved training results and significantly reducing the root mean squared error (RMSE) from thousands to single digits. This technique helped to account for the inherent self-interaction energy within the model.\n",
    "\n",
    "Furthermore, the decision to include the AEV (Atom Environment Vector) computer within the model architecture was found to greatly enhance the training performance, with a significant reduction in training time by approximately 60 times. This optimization allowed for more efficient processing of the input data and improved the overall model performance.\n",
    "\n",
    "However, the issue of overfitting persisted even with the implementation of L2 regularization and a reduction in model complexity. While these measures helped mitigate overfitting to some extent, further exploration and experimentation with additional regularization techniques may be necessary to achieve optimal model performance.\n",
    "\n",
    "last but not lease, the development and training of the deep learning model for energy prediction showcased the challenges and advancements in the field. While notable progress was made in terms of data loading, self-energy subtraction, and model optimization, addressing the issue of overfitting remains a future area of focus to improve the model's generalization capability."
   ]
  }
 ],
 "metadata": {
  "kernelspec": {
   "display_name": "Python 3 (ipykernel)",
   "language": "python",
   "name": "python3"
  },
  "language_info": {
   "codemirror_mode": {
    "name": "ipython",
    "version": 3
   },
   "file_extension": ".py",
   "mimetype": "text/x-python",
   "name": "python",
   "nbconvert_exporter": "python",
   "pygments_lexer": "ipython3",
   "version": "3.9.16"
  }
 },
 "nbformat": 4,
 "nbformat_minor": 5
}
